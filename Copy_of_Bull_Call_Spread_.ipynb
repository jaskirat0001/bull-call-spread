{
  "nbformat": 4,
  "nbformat_minor": 0,
  "metadata": {
    "colab": {
      "provenance": []
    },
    "kernelspec": {
      "name": "python3",
      "display_name": "Python 3"
    },
    "language_info": {
      "name": "python"
    }
  },
  "cells": [
    {
      "cell_type": "code",
      "execution_count": null,
      "metadata": {
        "id": "s7pszqt0UTiZ"
      },
      "outputs": [],
      "source": [
        "\n"
      ]
    },
    {
      "cell_type": "code",
      "source": [
        "!pip install py_vollib\n",
        "!pip install yfinance"
      ],
      "metadata": {
        "colab": {
          "base_uri": "https://localhost:8080/"
        },
        "id": "hgCaxrEGIgSG",
        "outputId": "d973ad98-d412-4085-af02-9e17bccc2cdb"
      },
      "execution_count": null,
      "outputs": [
        {
          "output_type": "stream",
          "name": "stdout",
          "text": [
            "Looking in indexes: https://pypi.org/simple, https://us-python.pkg.dev/colab-wheels/public/simple/\n",
            "Collecting py_vollib\n",
            "  Downloading py_vollib-1.0.1.tar.gz (19 kB)\n",
            "  Preparing metadata (setup.py) ... \u001b[?25l\u001b[?25hdone\n",
            "Collecting py_lets_be_rational\n",
            "  Downloading py_lets_be_rational-1.0.1.tar.gz (18 kB)\n",
            "  Preparing metadata (setup.py) ... \u001b[?25l\u001b[?25hdone\n",
            "Collecting simplejson\n",
            "  Downloading simplejson-3.18.1-cp38-cp38-manylinux_2_5_x86_64.manylinux1_x86_64.manylinux_2_17_x86_64.manylinux2014_x86_64.whl (135 kB)\n",
            "\u001b[2K     \u001b[90m━━━━━━━━━━━━━━━━━━━━━━━━━━━━━━━━━━━━━━━\u001b[0m \u001b[32m135.5/135.5 KB\u001b[0m \u001b[31m7.8 MB/s\u001b[0m eta \u001b[36m0:00:00\u001b[0m\n",
            "\u001b[?25hRequirement already satisfied: numpy in /usr/local/lib/python3.8/dist-packages (from py_vollib) (1.21.6)\n",
            "Requirement already satisfied: pandas in /usr/local/lib/python3.8/dist-packages (from py_vollib) (1.3.5)\n",
            "Requirement already satisfied: scipy in /usr/local/lib/python3.8/dist-packages (from py_vollib) (1.7.3)\n",
            "Requirement already satisfied: pytz>=2017.3 in /usr/local/lib/python3.8/dist-packages (from pandas->py_vollib) (2022.7)\n",
            "Requirement already satisfied: python-dateutil>=2.7.3 in /usr/local/lib/python3.8/dist-packages (from pandas->py_vollib) (2.8.2)\n",
            "Requirement already satisfied: six>=1.5 in /usr/local/lib/python3.8/dist-packages (from python-dateutil>=2.7.3->pandas->py_vollib) (1.15.0)\n",
            "Building wheels for collected packages: py_vollib, py_lets_be_rational\n",
            "  Building wheel for py_vollib (setup.py) ... \u001b[?25l\u001b[?25hdone\n",
            "  Created wheel for py_vollib: filename=py_vollib-1.0.1-py3-none-any.whl size=62855 sha256=688cdc03c6ae586da19fdd9f0be76ede03fea5d68b27af0350def87b436ffa82\n",
            "  Stored in directory: /root/.cache/pip/wheels/38/8d/d9/a680031767bd6a3d734fc7c48a75767591795e47ac66ca143c\n",
            "  Building wheel for py_lets_be_rational (setup.py) ... \u001b[?25l\u001b[?25hdone\n",
            "  Created wheel for py_lets_be_rational: filename=py_lets_be_rational-1.0.1-py3-none-any.whl size=24470 sha256=47c8e3c50dd8e629387af10e8a2ea85be13ed85c0ffa349c1dea2158c94b4b73\n",
            "  Stored in directory: /root/.cache/pip/wheels/e6/67/1e/93e41aebf34e4fd3cb02a865e9c782c9edaac5051f15a01d2e\n",
            "Successfully built py_vollib py_lets_be_rational\n",
            "Installing collected packages: simplejson, py_lets_be_rational, py_vollib\n",
            "Successfully installed py_lets_be_rational-1.0.1 py_vollib-1.0.1 simplejson-3.18.1\n",
            "Looking in indexes: https://pypi.org/simple, https://us-python.pkg.dev/colab-wheels/public/simple/\n",
            "Collecting yfinance\n",
            "  Downloading yfinance-0.2.3-py2.py3-none-any.whl (50 kB)\n",
            "\u001b[2K     \u001b[90m━━━━━━━━━━━━━━━━━━━━━━━━━━━━━━━━━━━━━━━━\u001b[0m \u001b[32m50.4/50.4 KB\u001b[0m \u001b[31m5.2 MB/s\u001b[0m eta \u001b[36m0:00:00\u001b[0m\n",
            "\u001b[?25hRequirement already satisfied: lxml>=4.9.1 in /usr/local/lib/python3.8/dist-packages (from yfinance) (4.9.2)\n",
            "Requirement already satisfied: numpy>=1.16.5 in /usr/local/lib/python3.8/dist-packages (from yfinance) (1.21.6)\n",
            "Collecting frozendict>=2.3.4\n",
            "  Downloading frozendict-2.3.4-cp38-cp38-manylinux_2_17_x86_64.manylinux2014_x86_64.whl (110 kB)\n",
            "\u001b[2K     \u001b[90m━━━━━━━━━━━━━━━━━━━━━━━━━━━━━━━━━━━━━━\u001b[0m \u001b[32m111.0/111.0 KB\u001b[0m \u001b[31m11.3 MB/s\u001b[0m eta \u001b[36m0:00:00\u001b[0m\n",
            "\u001b[?25hCollecting beautifulsoup4>=4.11.1\n",
            "  Downloading beautifulsoup4-4.11.1-py3-none-any.whl (128 kB)\n",
            "\u001b[2K     \u001b[90m━━━━━━━━━━━━━━━━━━━━━━━━━━━━━━━━━━━━━━\u001b[0m \u001b[32m128.2/128.2 KB\u001b[0m \u001b[31m16.3 MB/s\u001b[0m eta \u001b[36m0:00:00\u001b[0m\n",
            "\u001b[?25hRequirement already satisfied: appdirs>=1.4.4 in /usr/local/lib/python3.8/dist-packages (from yfinance) (1.4.4)\n",
            "Collecting html5lib>=1.1\n",
            "  Downloading html5lib-1.1-py2.py3-none-any.whl (112 kB)\n",
            "\u001b[2K     \u001b[90m━━━━━━━━━━━━━━━━━━━━━━━━━━━━━━━━━━━━━━\u001b[0m \u001b[32m112.2/112.2 KB\u001b[0m \u001b[31m14.1 MB/s\u001b[0m eta \u001b[36m0:00:00\u001b[0m\n",
            "\u001b[?25hRequirement already satisfied: pytz>=2022.5 in /usr/local/lib/python3.8/dist-packages (from yfinance) (2022.7)\n",
            "Collecting cryptography>=3.3.2\n",
            "  Downloading cryptography-39.0.0-cp36-abi3-manylinux_2_24_x86_64.whl (4.1 MB)\n",
            "\u001b[2K     \u001b[90m━━━━━━━━━━━━━━━━━━━━━━━━━━━━━━━━━━━━━━━━\u001b[0m \u001b[32m4.1/4.1 MB\u001b[0m \u001b[31m57.3 MB/s\u001b[0m eta \u001b[36m0:00:00\u001b[0m\n",
            "\u001b[?25hRequirement already satisfied: pandas>=1.3.0 in /usr/local/lib/python3.8/dist-packages (from yfinance) (1.3.5)\n",
            "Collecting requests>=2.26\n",
            "  Downloading requests-2.28.2-py3-none-any.whl (62 kB)\n",
            "\u001b[2K     \u001b[90m━━━━━━━━━━━━━━━━━━━━━━━━━━━━━━━━━━━━━━━━\u001b[0m \u001b[32m62.8/62.8 KB\u001b[0m \u001b[31m7.6 MB/s\u001b[0m eta \u001b[36m0:00:00\u001b[0m\n",
            "\u001b[?25hRequirement already satisfied: multitasking>=0.0.7 in /usr/local/lib/python3.8/dist-packages (from yfinance) (0.0.11)\n",
            "Collecting soupsieve>1.2\n",
            "  Downloading soupsieve-2.3.2.post1-py3-none-any.whl (37 kB)\n",
            "Requirement already satisfied: cffi>=1.12 in /usr/local/lib/python3.8/dist-packages (from cryptography>=3.3.2->yfinance) (1.15.1)\n",
            "Requirement already satisfied: webencodings in /usr/local/lib/python3.8/dist-packages (from html5lib>=1.1->yfinance) (0.5.1)\n",
            "Requirement already satisfied: six>=1.9 in /usr/local/lib/python3.8/dist-packages (from html5lib>=1.1->yfinance) (1.15.0)\n",
            "Requirement already satisfied: python-dateutil>=2.7.3 in /usr/local/lib/python3.8/dist-packages (from pandas>=1.3.0->yfinance) (2.8.2)\n",
            "Requirement already satisfied: charset-normalizer<4,>=2 in /usr/local/lib/python3.8/dist-packages (from requests>=2.26->yfinance) (2.1.1)\n",
            "Requirement already satisfied: idna<4,>=2.5 in /usr/local/lib/python3.8/dist-packages (from requests>=2.26->yfinance) (2.10)\n",
            "Requirement already satisfied: urllib3<1.27,>=1.21.1 in /usr/local/lib/python3.8/dist-packages (from requests>=2.26->yfinance) (1.24.3)\n",
            "Requirement already satisfied: certifi>=2017.4.17 in /usr/local/lib/python3.8/dist-packages (from requests>=2.26->yfinance) (2022.12.7)\n",
            "Requirement already satisfied: pycparser in /usr/local/lib/python3.8/dist-packages (from cffi>=1.12->cryptography>=3.3.2->yfinance) (2.21)\n",
            "Installing collected packages: soupsieve, requests, html5lib, frozendict, cryptography, beautifulsoup4, yfinance\n",
            "  Attempting uninstall: requests\n",
            "    Found existing installation: requests 2.25.1\n",
            "    Uninstalling requests-2.25.1:\n",
            "      Successfully uninstalled requests-2.25.1\n",
            "  Attempting uninstall: html5lib\n",
            "    Found existing installation: html5lib 1.0.1\n",
            "    Uninstalling html5lib-1.0.1:\n",
            "      Successfully uninstalled html5lib-1.0.1\n",
            "  Attempting uninstall: beautifulsoup4\n",
            "    Found existing installation: beautifulsoup4 4.6.3\n",
            "    Uninstalling beautifulsoup4-4.6.3:\n",
            "      Successfully uninstalled beautifulsoup4-4.6.3\n",
            "Successfully installed beautifulsoup4-4.11.1 cryptography-39.0.0 frozendict-2.3.4 html5lib-1.1 requests-2.28.2 soupsieve-2.3.2.post1 yfinance-0.2.3\n"
          ]
        }
      ]
    },
    {
      "cell_type": "code",
      "source": [
        "import pandas as pd\n",
        "import matplotlib.pyplot as plt\n",
        "import numpy as np\n",
        "\n",
        "from datetime import datetime\n",
        "\n",
        "import warnings\n",
        "warnings.filterwarnings(\"ignore\")\n",
        "\n",
        "# to fetch data \n",
        "import yfinance as yf\n",
        "\n",
        "import scipy.stats as ss\n",
        "\n",
        "import py_vollib.black_scholes.greeks.analytical as derivatives\n",
        "\n",
        "import math"
      ],
      "metadata": {
        "id": "yzYym5elVDs8"
      },
      "execution_count": null,
      "outputs": []
    },
    {
      "cell_type": "code",
      "source": [
        "df_fut = pd.read_csv('file3.csv')\n",
        "df_fut.head()"
      ],
      "metadata": {
        "id": "T5qCa0k6VGwB",
        "colab": {
          "base_uri": "https://localhost:8080/",
          "height": 478
        },
        "outputId": "e40b058d-9a09-4e02-a8df-28bf06347674"
      },
      "execution_count": null,
      "outputs": [
        {
          "output_type": "execute_result",
          "data": {
            "text/plain": [
              "      Symbol         Date       Expiry Option Type  Strike Price     Open  \\\n",
              "0  BANKNIFTY  28-May-2021  24-Jun-2021          CE         35000  1394.65   \n",
              "1  BANKNIFTY  31-May-2021  24-Jun-2021          CE         35000  1197.95   \n",
              "2  BANKNIFTY  01-Jun-2021  24-Jun-2021          CE         35000  1291.90   \n",
              "3  BANKNIFTY  02-Jun-2021  24-Jun-2021          CE         35000  1099.30   \n",
              "4  BANKNIFTY  03-Jun-2021  24-Jun-2021          CE         35000  1163.20   \n",
              "\n",
              "     High     Low    Close      LTP  Settle Price  No. of contracts  \\\n",
              "0  1459.5  1132.0  1213.55  1224.50       1213.55             18138   \n",
              "1  1339.0  1021.6  1308.30  1281.95       1308.30             14456   \n",
              "2  1398.0  1112.3  1155.05  1163.00       1155.05             15231   \n",
              "3  1145.7   982.5  1128.05  1122.00       1128.05             12258   \n",
              "4  1342.5  1111.7  1265.45  1270.00       1265.45              7511   \n",
              "\n",
              "   Turnover in Lacs  Premium Turnover in Lacs  Open Int  Change in OI  \\\n",
              "0         164479.84                   5772.34    283425         39000   \n",
              "1         130864.56                   4374.56    245275        -38150   \n",
              "2         137967.95                   4696.70    345025         99750   \n",
              "3         110507.46                   3249.96    342375         -2650   \n",
              "4          68025.76                   2304.51    307825        -34550   \n",
              "\n",
              "  Underlying Value  \n",
              "0         35141.45  \n",
              "1                -  \n",
              "2                -  \n",
              "3                -  \n",
              "4                -  "
            ],
            "text/html": [
              "\n",
              "  <div id=\"df-f09e73ec-ab94-4681-8dbc-9b2c49e0c070\">\n",
              "    <div class=\"colab-df-container\">\n",
              "      <div>\n",
              "<style scoped>\n",
              "    .dataframe tbody tr th:only-of-type {\n",
              "        vertical-align: middle;\n",
              "    }\n",
              "\n",
              "    .dataframe tbody tr th {\n",
              "        vertical-align: top;\n",
              "    }\n",
              "\n",
              "    .dataframe thead th {\n",
              "        text-align: right;\n",
              "    }\n",
              "</style>\n",
              "<table border=\"1\" class=\"dataframe\">\n",
              "  <thead>\n",
              "    <tr style=\"text-align: right;\">\n",
              "      <th></th>\n",
              "      <th>Symbol</th>\n",
              "      <th>Date</th>\n",
              "      <th>Expiry</th>\n",
              "      <th>Option Type</th>\n",
              "      <th>Strike Price</th>\n",
              "      <th>Open</th>\n",
              "      <th>High</th>\n",
              "      <th>Low</th>\n",
              "      <th>Close</th>\n",
              "      <th>LTP</th>\n",
              "      <th>Settle Price</th>\n",
              "      <th>No. of contracts</th>\n",
              "      <th>Turnover in Lacs</th>\n",
              "      <th>Premium Turnover in Lacs</th>\n",
              "      <th>Open Int</th>\n",
              "      <th>Change in OI</th>\n",
              "      <th>Underlying Value</th>\n",
              "    </tr>\n",
              "  </thead>\n",
              "  <tbody>\n",
              "    <tr>\n",
              "      <th>0</th>\n",
              "      <td>BANKNIFTY</td>\n",
              "      <td>28-May-2021</td>\n",
              "      <td>24-Jun-2021</td>\n",
              "      <td>CE</td>\n",
              "      <td>35000</td>\n",
              "      <td>1394.65</td>\n",
              "      <td>1459.5</td>\n",
              "      <td>1132.0</td>\n",
              "      <td>1213.55</td>\n",
              "      <td>1224.50</td>\n",
              "      <td>1213.55</td>\n",
              "      <td>18138</td>\n",
              "      <td>164479.84</td>\n",
              "      <td>5772.34</td>\n",
              "      <td>283425</td>\n",
              "      <td>39000</td>\n",
              "      <td>35141.45</td>\n",
              "    </tr>\n",
              "    <tr>\n",
              "      <th>1</th>\n",
              "      <td>BANKNIFTY</td>\n",
              "      <td>31-May-2021</td>\n",
              "      <td>24-Jun-2021</td>\n",
              "      <td>CE</td>\n",
              "      <td>35000</td>\n",
              "      <td>1197.95</td>\n",
              "      <td>1339.0</td>\n",
              "      <td>1021.6</td>\n",
              "      <td>1308.30</td>\n",
              "      <td>1281.95</td>\n",
              "      <td>1308.30</td>\n",
              "      <td>14456</td>\n",
              "      <td>130864.56</td>\n",
              "      <td>4374.56</td>\n",
              "      <td>245275</td>\n",
              "      <td>-38150</td>\n",
              "      <td>-</td>\n",
              "    </tr>\n",
              "    <tr>\n",
              "      <th>2</th>\n",
              "      <td>BANKNIFTY</td>\n",
              "      <td>01-Jun-2021</td>\n",
              "      <td>24-Jun-2021</td>\n",
              "      <td>CE</td>\n",
              "      <td>35000</td>\n",
              "      <td>1291.90</td>\n",
              "      <td>1398.0</td>\n",
              "      <td>1112.3</td>\n",
              "      <td>1155.05</td>\n",
              "      <td>1163.00</td>\n",
              "      <td>1155.05</td>\n",
              "      <td>15231</td>\n",
              "      <td>137967.95</td>\n",
              "      <td>4696.70</td>\n",
              "      <td>345025</td>\n",
              "      <td>99750</td>\n",
              "      <td>-</td>\n",
              "    </tr>\n",
              "    <tr>\n",
              "      <th>3</th>\n",
              "      <td>BANKNIFTY</td>\n",
              "      <td>02-Jun-2021</td>\n",
              "      <td>24-Jun-2021</td>\n",
              "      <td>CE</td>\n",
              "      <td>35000</td>\n",
              "      <td>1099.30</td>\n",
              "      <td>1145.7</td>\n",
              "      <td>982.5</td>\n",
              "      <td>1128.05</td>\n",
              "      <td>1122.00</td>\n",
              "      <td>1128.05</td>\n",
              "      <td>12258</td>\n",
              "      <td>110507.46</td>\n",
              "      <td>3249.96</td>\n",
              "      <td>342375</td>\n",
              "      <td>-2650</td>\n",
              "      <td>-</td>\n",
              "    </tr>\n",
              "    <tr>\n",
              "      <th>4</th>\n",
              "      <td>BANKNIFTY</td>\n",
              "      <td>03-Jun-2021</td>\n",
              "      <td>24-Jun-2021</td>\n",
              "      <td>CE</td>\n",
              "      <td>35000</td>\n",
              "      <td>1163.20</td>\n",
              "      <td>1342.5</td>\n",
              "      <td>1111.7</td>\n",
              "      <td>1265.45</td>\n",
              "      <td>1270.00</td>\n",
              "      <td>1265.45</td>\n",
              "      <td>7511</td>\n",
              "      <td>68025.76</td>\n",
              "      <td>2304.51</td>\n",
              "      <td>307825</td>\n",
              "      <td>-34550</td>\n",
              "      <td>-</td>\n",
              "    </tr>\n",
              "  </tbody>\n",
              "</table>\n",
              "</div>\n",
              "      <button class=\"colab-df-convert\" onclick=\"convertToInteractive('df-f09e73ec-ab94-4681-8dbc-9b2c49e0c070')\"\n",
              "              title=\"Convert this dataframe to an interactive table.\"\n",
              "              style=\"display:none;\">\n",
              "        \n",
              "  <svg xmlns=\"http://www.w3.org/2000/svg\" height=\"24px\"viewBox=\"0 0 24 24\"\n",
              "       width=\"24px\">\n",
              "    <path d=\"M0 0h24v24H0V0z\" fill=\"none\"/>\n",
              "    <path d=\"M18.56 5.44l.94 2.06.94-2.06 2.06-.94-2.06-.94-.94-2.06-.94 2.06-2.06.94zm-11 1L8.5 8.5l.94-2.06 2.06-.94-2.06-.94L8.5 2.5l-.94 2.06-2.06.94zm10 10l.94 2.06.94-2.06 2.06-.94-2.06-.94-.94-2.06-.94 2.06-2.06.94z\"/><path d=\"M17.41 7.96l-1.37-1.37c-.4-.4-.92-.59-1.43-.59-.52 0-1.04.2-1.43.59L10.3 9.45l-7.72 7.72c-.78.78-.78 2.05 0 2.83L4 21.41c.39.39.9.59 1.41.59.51 0 1.02-.2 1.41-.59l7.78-7.78 2.81-2.81c.8-.78.8-2.07 0-2.86zM5.41 20L4 18.59l7.72-7.72 1.47 1.35L5.41 20z\"/>\n",
              "  </svg>\n",
              "      </button>\n",
              "      \n",
              "  <style>\n",
              "    .colab-df-container {\n",
              "      display:flex;\n",
              "      flex-wrap:wrap;\n",
              "      gap: 12px;\n",
              "    }\n",
              "\n",
              "    .colab-df-convert {\n",
              "      background-color: #E8F0FE;\n",
              "      border: none;\n",
              "      border-radius: 50%;\n",
              "      cursor: pointer;\n",
              "      display: none;\n",
              "      fill: #1967D2;\n",
              "      height: 32px;\n",
              "      padding: 0 0 0 0;\n",
              "      width: 32px;\n",
              "    }\n",
              "\n",
              "    .colab-df-convert:hover {\n",
              "      background-color: #E2EBFA;\n",
              "      box-shadow: 0px 1px 2px rgba(60, 64, 67, 0.3), 0px 1px 3px 1px rgba(60, 64, 67, 0.15);\n",
              "      fill: #174EA6;\n",
              "    }\n",
              "\n",
              "    [theme=dark] .colab-df-convert {\n",
              "      background-color: #3B4455;\n",
              "      fill: #D2E3FC;\n",
              "    }\n",
              "\n",
              "    [theme=dark] .colab-df-convert:hover {\n",
              "      background-color: #434B5C;\n",
              "      box-shadow: 0px 1px 3px 1px rgba(0, 0, 0, 0.15);\n",
              "      filter: drop-shadow(0px 1px 2px rgba(0, 0, 0, 0.3));\n",
              "      fill: #FFFFFF;\n",
              "    }\n",
              "  </style>\n",
              "\n",
              "      <script>\n",
              "        const buttonEl =\n",
              "          document.querySelector('#df-f09e73ec-ab94-4681-8dbc-9b2c49e0c070 button.colab-df-convert');\n",
              "        buttonEl.style.display =\n",
              "          google.colab.kernel.accessAllowed ? 'block' : 'none';\n",
              "\n",
              "        async function convertToInteractive(key) {\n",
              "          const element = document.querySelector('#df-f09e73ec-ab94-4681-8dbc-9b2c49e0c070');\n",
              "          const dataTable =\n",
              "            await google.colab.kernel.invokeFunction('convertToInteractive',\n",
              "                                                     [key], {});\n",
              "          if (!dataTable) return;\n",
              "\n",
              "          const docLinkHtml = 'Like what you see? Visit the ' +\n",
              "            '<a target=\"_blank\" href=https://colab.research.google.com/notebooks/data_table.ipynb>data table notebook</a>'\n",
              "            + ' to learn more about interactive tables.';\n",
              "          element.innerHTML = '';\n",
              "          dataTable['output_type'] = 'display_data';\n",
              "          await google.colab.output.renderOutput(dataTable, element);\n",
              "          const docLink = document.createElement('div');\n",
              "          docLink.innerHTML = docLinkHtml;\n",
              "          element.appendChild(docLink);\n",
              "        }\n",
              "      </script>\n",
              "    </div>\n",
              "  </div>\n",
              "  "
            ]
          },
          "metadata": {},
          "execution_count": 9
        }
      ]
    },
    {
      "cell_type": "code",
      "source": [
        "df_call_36000 = pd.read_csv ('OPTIDX_BANKNIFTY_CE_28-May-2021_TO_24-Jun-2021_1.csv')\n",
        "df_call_36000.head()"
      ],
      "metadata": {
        "id": "vXeiv3_5VG29",
        "colab": {
          "base_uri": "https://localhost:8080/",
          "height": 356
        },
        "outputId": "58858c59-628a-4466-a29f-c6c0d673f6a4"
      },
      "execution_count": null,
      "outputs": [
        {
          "output_type": "error",
          "ename": "FileNotFoundError",
          "evalue": "ignored",
          "traceback": [
            "\u001b[0;31m---------------------------------------------------------------------------\u001b[0m",
            "\u001b[0;31mFileNotFoundError\u001b[0m                         Traceback (most recent call last)",
            "\u001b[0;32m<ipython-input-11-eb3213609e71>\u001b[0m in \u001b[0;36m<module>\u001b[0;34m\u001b[0m\n\u001b[0;32m----> 1\u001b[0;31m \u001b[0mdf_call_36000\u001b[0m \u001b[0;34m=\u001b[0m \u001b[0mpd\u001b[0m\u001b[0;34m.\u001b[0m\u001b[0mread_csv\u001b[0m \u001b[0;34m(\u001b[0m\u001b[0;34m'OPTIDX_BANKNIFTY_CE_28-May-2021_TO_24-Jun-2021_1.csv'\u001b[0m\u001b[0;34m)\u001b[0m\u001b[0;34m\u001b[0m\u001b[0;34m\u001b[0m\u001b[0m\n\u001b[0m\u001b[1;32m      2\u001b[0m \u001b[0mdf_call_36000\u001b[0m\u001b[0;34m.\u001b[0m\u001b[0mhead\u001b[0m\u001b[0;34m(\u001b[0m\u001b[0;34m)\u001b[0m\u001b[0;34m\u001b[0m\u001b[0;34m\u001b[0m\u001b[0m\n",
            "\u001b[0;32m/usr/local/lib/python3.8/dist-packages/pandas/util/_decorators.py\u001b[0m in \u001b[0;36mwrapper\u001b[0;34m(*args, **kwargs)\u001b[0m\n\u001b[1;32m    309\u001b[0m                     \u001b[0mstacklevel\u001b[0m\u001b[0;34m=\u001b[0m\u001b[0mstacklevel\u001b[0m\u001b[0;34m,\u001b[0m\u001b[0;34m\u001b[0m\u001b[0;34m\u001b[0m\u001b[0m\n\u001b[1;32m    310\u001b[0m                 )\n\u001b[0;32m--> 311\u001b[0;31m             \u001b[0;32mreturn\u001b[0m \u001b[0mfunc\u001b[0m\u001b[0;34m(\u001b[0m\u001b[0;34m*\u001b[0m\u001b[0margs\u001b[0m\u001b[0;34m,\u001b[0m \u001b[0;34m**\u001b[0m\u001b[0mkwargs\u001b[0m\u001b[0;34m)\u001b[0m\u001b[0;34m\u001b[0m\u001b[0;34m\u001b[0m\u001b[0m\n\u001b[0m\u001b[1;32m    312\u001b[0m \u001b[0;34m\u001b[0m\u001b[0m\n\u001b[1;32m    313\u001b[0m         \u001b[0;32mreturn\u001b[0m \u001b[0mwrapper\u001b[0m\u001b[0;34m\u001b[0m\u001b[0;34m\u001b[0m\u001b[0m\n",
            "\u001b[0;32m/usr/local/lib/python3.8/dist-packages/pandas/io/parsers/readers.py\u001b[0m in \u001b[0;36mread_csv\u001b[0;34m(filepath_or_buffer, sep, delimiter, header, names, index_col, usecols, squeeze, prefix, mangle_dupe_cols, dtype, engine, converters, true_values, false_values, skipinitialspace, skiprows, skipfooter, nrows, na_values, keep_default_na, na_filter, verbose, skip_blank_lines, parse_dates, infer_datetime_format, keep_date_col, date_parser, dayfirst, cache_dates, iterator, chunksize, compression, thousands, decimal, lineterminator, quotechar, quoting, doublequote, escapechar, comment, encoding, encoding_errors, dialect, error_bad_lines, warn_bad_lines, on_bad_lines, delim_whitespace, low_memory, memory_map, float_precision, storage_options)\u001b[0m\n\u001b[1;32m    584\u001b[0m     \u001b[0mkwds\u001b[0m\u001b[0;34m.\u001b[0m\u001b[0mupdate\u001b[0m\u001b[0;34m(\u001b[0m\u001b[0mkwds_defaults\u001b[0m\u001b[0;34m)\u001b[0m\u001b[0;34m\u001b[0m\u001b[0;34m\u001b[0m\u001b[0m\n\u001b[1;32m    585\u001b[0m \u001b[0;34m\u001b[0m\u001b[0m\n\u001b[0;32m--> 586\u001b[0;31m     \u001b[0;32mreturn\u001b[0m \u001b[0m_read\u001b[0m\u001b[0;34m(\u001b[0m\u001b[0mfilepath_or_buffer\u001b[0m\u001b[0;34m,\u001b[0m \u001b[0mkwds\u001b[0m\u001b[0;34m)\u001b[0m\u001b[0;34m\u001b[0m\u001b[0;34m\u001b[0m\u001b[0m\n\u001b[0m\u001b[1;32m    587\u001b[0m \u001b[0;34m\u001b[0m\u001b[0m\n\u001b[1;32m    588\u001b[0m \u001b[0;34m\u001b[0m\u001b[0m\n",
            "\u001b[0;32m/usr/local/lib/python3.8/dist-packages/pandas/io/parsers/readers.py\u001b[0m in \u001b[0;36m_read\u001b[0;34m(filepath_or_buffer, kwds)\u001b[0m\n\u001b[1;32m    480\u001b[0m \u001b[0;34m\u001b[0m\u001b[0m\n\u001b[1;32m    481\u001b[0m     \u001b[0;31m# Create the parser.\u001b[0m\u001b[0;34m\u001b[0m\u001b[0;34m\u001b[0m\u001b[0;34m\u001b[0m\u001b[0m\n\u001b[0;32m--> 482\u001b[0;31m     \u001b[0mparser\u001b[0m \u001b[0;34m=\u001b[0m \u001b[0mTextFileReader\u001b[0m\u001b[0;34m(\u001b[0m\u001b[0mfilepath_or_buffer\u001b[0m\u001b[0;34m,\u001b[0m \u001b[0;34m**\u001b[0m\u001b[0mkwds\u001b[0m\u001b[0;34m)\u001b[0m\u001b[0;34m\u001b[0m\u001b[0;34m\u001b[0m\u001b[0m\n\u001b[0m\u001b[1;32m    483\u001b[0m \u001b[0;34m\u001b[0m\u001b[0m\n\u001b[1;32m    484\u001b[0m     \u001b[0;32mif\u001b[0m \u001b[0mchunksize\u001b[0m \u001b[0;32mor\u001b[0m \u001b[0miterator\u001b[0m\u001b[0;34m:\u001b[0m\u001b[0;34m\u001b[0m\u001b[0;34m\u001b[0m\u001b[0m\n",
            "\u001b[0;32m/usr/local/lib/python3.8/dist-packages/pandas/io/parsers/readers.py\u001b[0m in \u001b[0;36m__init__\u001b[0;34m(self, f, engine, **kwds)\u001b[0m\n\u001b[1;32m    809\u001b[0m             \u001b[0mself\u001b[0m\u001b[0;34m.\u001b[0m\u001b[0moptions\u001b[0m\u001b[0;34m[\u001b[0m\u001b[0;34m\"has_index_names\"\u001b[0m\u001b[0;34m]\u001b[0m \u001b[0;34m=\u001b[0m \u001b[0mkwds\u001b[0m\u001b[0;34m[\u001b[0m\u001b[0;34m\"has_index_names\"\u001b[0m\u001b[0;34m]\u001b[0m\u001b[0;34m\u001b[0m\u001b[0;34m\u001b[0m\u001b[0m\n\u001b[1;32m    810\u001b[0m \u001b[0;34m\u001b[0m\u001b[0m\n\u001b[0;32m--> 811\u001b[0;31m         \u001b[0mself\u001b[0m\u001b[0;34m.\u001b[0m\u001b[0m_engine\u001b[0m \u001b[0;34m=\u001b[0m \u001b[0mself\u001b[0m\u001b[0;34m.\u001b[0m\u001b[0m_make_engine\u001b[0m\u001b[0;34m(\u001b[0m\u001b[0mself\u001b[0m\u001b[0;34m.\u001b[0m\u001b[0mengine\u001b[0m\u001b[0;34m)\u001b[0m\u001b[0;34m\u001b[0m\u001b[0;34m\u001b[0m\u001b[0m\n\u001b[0m\u001b[1;32m    812\u001b[0m \u001b[0;34m\u001b[0m\u001b[0m\n\u001b[1;32m    813\u001b[0m     \u001b[0;32mdef\u001b[0m \u001b[0mclose\u001b[0m\u001b[0;34m(\u001b[0m\u001b[0mself\u001b[0m\u001b[0;34m)\u001b[0m\u001b[0;34m:\u001b[0m\u001b[0;34m\u001b[0m\u001b[0;34m\u001b[0m\u001b[0m\n",
            "\u001b[0;32m/usr/local/lib/python3.8/dist-packages/pandas/io/parsers/readers.py\u001b[0m in \u001b[0;36m_make_engine\u001b[0;34m(self, engine)\u001b[0m\n\u001b[1;32m   1038\u001b[0m             )\n\u001b[1;32m   1039\u001b[0m         \u001b[0;31m# error: Too many arguments for \"ParserBase\"\u001b[0m\u001b[0;34m\u001b[0m\u001b[0;34m\u001b[0m\u001b[0;34m\u001b[0m\u001b[0m\n\u001b[0;32m-> 1040\u001b[0;31m         \u001b[0;32mreturn\u001b[0m \u001b[0mmapping\u001b[0m\u001b[0;34m[\u001b[0m\u001b[0mengine\u001b[0m\u001b[0;34m]\u001b[0m\u001b[0;34m(\u001b[0m\u001b[0mself\u001b[0m\u001b[0;34m.\u001b[0m\u001b[0mf\u001b[0m\u001b[0;34m,\u001b[0m \u001b[0;34m**\u001b[0m\u001b[0mself\u001b[0m\u001b[0;34m.\u001b[0m\u001b[0moptions\u001b[0m\u001b[0;34m)\u001b[0m  \u001b[0;31m# type: ignore[call-arg]\u001b[0m\u001b[0;34m\u001b[0m\u001b[0;34m\u001b[0m\u001b[0m\n\u001b[0m\u001b[1;32m   1041\u001b[0m \u001b[0;34m\u001b[0m\u001b[0m\n\u001b[1;32m   1042\u001b[0m     \u001b[0;32mdef\u001b[0m \u001b[0m_failover_to_python\u001b[0m\u001b[0;34m(\u001b[0m\u001b[0mself\u001b[0m\u001b[0;34m)\u001b[0m\u001b[0;34m:\u001b[0m\u001b[0;34m\u001b[0m\u001b[0;34m\u001b[0m\u001b[0m\n",
            "\u001b[0;32m/usr/local/lib/python3.8/dist-packages/pandas/io/parsers/c_parser_wrapper.py\u001b[0m in \u001b[0;36m__init__\u001b[0;34m(self, src, **kwds)\u001b[0m\n\u001b[1;32m     49\u001b[0m \u001b[0;34m\u001b[0m\u001b[0m\n\u001b[1;32m     50\u001b[0m         \u001b[0;31m# open handles\u001b[0m\u001b[0;34m\u001b[0m\u001b[0;34m\u001b[0m\u001b[0;34m\u001b[0m\u001b[0m\n\u001b[0;32m---> 51\u001b[0;31m         \u001b[0mself\u001b[0m\u001b[0;34m.\u001b[0m\u001b[0m_open_handles\u001b[0m\u001b[0;34m(\u001b[0m\u001b[0msrc\u001b[0m\u001b[0;34m,\u001b[0m \u001b[0mkwds\u001b[0m\u001b[0;34m)\u001b[0m\u001b[0;34m\u001b[0m\u001b[0;34m\u001b[0m\u001b[0m\n\u001b[0m\u001b[1;32m     52\u001b[0m         \u001b[0;32massert\u001b[0m \u001b[0mself\u001b[0m\u001b[0;34m.\u001b[0m\u001b[0mhandles\u001b[0m \u001b[0;32mis\u001b[0m \u001b[0;32mnot\u001b[0m \u001b[0;32mNone\u001b[0m\u001b[0;34m\u001b[0m\u001b[0;34m\u001b[0m\u001b[0m\n\u001b[1;32m     53\u001b[0m \u001b[0;34m\u001b[0m\u001b[0m\n",
            "\u001b[0;32m/usr/local/lib/python3.8/dist-packages/pandas/io/parsers/base_parser.py\u001b[0m in \u001b[0;36m_open_handles\u001b[0;34m(self, src, kwds)\u001b[0m\n\u001b[1;32m    220\u001b[0m         \u001b[0mLet\u001b[0m \u001b[0mthe\u001b[0m \u001b[0mreaders\u001b[0m \u001b[0mopen\u001b[0m \u001b[0mIOHandles\u001b[0m \u001b[0mafter\u001b[0m \u001b[0mthey\u001b[0m \u001b[0mare\u001b[0m \u001b[0mdone\u001b[0m \u001b[0;32mwith\u001b[0m \u001b[0mtheir\u001b[0m \u001b[0mpotential\u001b[0m \u001b[0mraises\u001b[0m\u001b[0;34m.\u001b[0m\u001b[0;34m\u001b[0m\u001b[0;34m\u001b[0m\u001b[0m\n\u001b[1;32m    221\u001b[0m         \"\"\"\n\u001b[0;32m--> 222\u001b[0;31m         self.handles = get_handle(\n\u001b[0m\u001b[1;32m    223\u001b[0m             \u001b[0msrc\u001b[0m\u001b[0;34m,\u001b[0m\u001b[0;34m\u001b[0m\u001b[0;34m\u001b[0m\u001b[0m\n\u001b[1;32m    224\u001b[0m             \u001b[0;34m\"r\"\u001b[0m\u001b[0;34m,\u001b[0m\u001b[0;34m\u001b[0m\u001b[0;34m\u001b[0m\u001b[0m\n",
            "\u001b[0;32m/usr/local/lib/python3.8/dist-packages/pandas/io/common.py\u001b[0m in \u001b[0;36mget_handle\u001b[0;34m(path_or_buf, mode, encoding, compression, memory_map, is_text, errors, storage_options)\u001b[0m\n\u001b[1;32m    700\u001b[0m         \u001b[0;32mif\u001b[0m \u001b[0mioargs\u001b[0m\u001b[0;34m.\u001b[0m\u001b[0mencoding\u001b[0m \u001b[0;32mand\u001b[0m \u001b[0;34m\"b\"\u001b[0m \u001b[0;32mnot\u001b[0m \u001b[0;32min\u001b[0m \u001b[0mioargs\u001b[0m\u001b[0;34m.\u001b[0m\u001b[0mmode\u001b[0m\u001b[0;34m:\u001b[0m\u001b[0;34m\u001b[0m\u001b[0;34m\u001b[0m\u001b[0m\n\u001b[1;32m    701\u001b[0m             \u001b[0;31m# Encoding\u001b[0m\u001b[0;34m\u001b[0m\u001b[0;34m\u001b[0m\u001b[0;34m\u001b[0m\u001b[0m\n\u001b[0;32m--> 702\u001b[0;31m             handle = open(\n\u001b[0m\u001b[1;32m    703\u001b[0m                 \u001b[0mhandle\u001b[0m\u001b[0;34m,\u001b[0m\u001b[0;34m\u001b[0m\u001b[0;34m\u001b[0m\u001b[0m\n\u001b[1;32m    704\u001b[0m                 \u001b[0mioargs\u001b[0m\u001b[0;34m.\u001b[0m\u001b[0mmode\u001b[0m\u001b[0;34m,\u001b[0m\u001b[0;34m\u001b[0m\u001b[0;34m\u001b[0m\u001b[0m\n",
            "\u001b[0;31mFileNotFoundError\u001b[0m: [Errno 2] No such file or directory: 'OPTIDX_BANKNIFTY_CE_28-May-2021_TO_24-Jun-2021_1.csv'"
          ]
        }
      ]
    },
    {
      "cell_type": "code",
      "source": [
        "symbol = '^NSEBANK'\n",
        "end = '2021-06-25'\n",
        "start = '2021-05-28'\n",
        "\n",
        "\n",
        "# Read data \n",
        "df = yf.download(symbol,start,end)\n",
        "\n",
        "df.head()"
      ],
      "metadata": {
        "id": "l-asBiDZVLPq",
        "colab": {
          "base_uri": "https://localhost:8080/",
          "height": 255
        },
        "outputId": "9715d4aa-cac0-4355-a9e2-84b817249645"
      },
      "execution_count": null,
      "outputs": [
        {
          "output_type": "stream",
          "name": "stdout",
          "text": [
            "\r[*********************100%***********************]  1 of 1 completed\n"
          ]
        },
        {
          "output_type": "execute_result",
          "data": {
            "text/plain": [
              "                    Open          High           Low         Close  \\\n",
              "Date                                                                 \n",
              "2021-05-28  35345.648438  35436.648438  34977.199219  35141.449219   \n",
              "2021-05-31  35097.449219  35584.300781  34930.101562  35526.648438   \n",
              "2021-06-01  35639.750000  35713.898438  35241.199219  35337.199219   \n",
              "2021-06-02  35271.601562  35415.851562  35070.300781  35373.750000   \n",
              "2021-06-03  35536.449219  35723.699219  35413.000000  35649.000000   \n",
              "\n",
              "               Adj Close  Volume  \n",
              "Date                              \n",
              "2021-05-28  35141.449219       0  \n",
              "2021-05-31  35526.648438       0  \n",
              "2021-06-01  35337.199219       0  \n",
              "2021-06-02  35373.750000       0  \n",
              "2021-06-03  35649.000000       0  "
            ],
            "text/html": [
              "\n",
              "  <div id=\"df-c13ad424-aa7f-4e7d-a0d7-ac2c72236273\">\n",
              "    <div class=\"colab-df-container\">\n",
              "      <div>\n",
              "<style scoped>\n",
              "    .dataframe tbody tr th:only-of-type {\n",
              "        vertical-align: middle;\n",
              "    }\n",
              "\n",
              "    .dataframe tbody tr th {\n",
              "        vertical-align: top;\n",
              "    }\n",
              "\n",
              "    .dataframe thead th {\n",
              "        text-align: right;\n",
              "    }\n",
              "</style>\n",
              "<table border=\"1\" class=\"dataframe\">\n",
              "  <thead>\n",
              "    <tr style=\"text-align: right;\">\n",
              "      <th></th>\n",
              "      <th>Open</th>\n",
              "      <th>High</th>\n",
              "      <th>Low</th>\n",
              "      <th>Close</th>\n",
              "      <th>Adj Close</th>\n",
              "      <th>Volume</th>\n",
              "    </tr>\n",
              "    <tr>\n",
              "      <th>Date</th>\n",
              "      <th></th>\n",
              "      <th></th>\n",
              "      <th></th>\n",
              "      <th></th>\n",
              "      <th></th>\n",
              "      <th></th>\n",
              "    </tr>\n",
              "  </thead>\n",
              "  <tbody>\n",
              "    <tr>\n",
              "      <th>2021-05-28</th>\n",
              "      <td>35345.648438</td>\n",
              "      <td>35436.648438</td>\n",
              "      <td>34977.199219</td>\n",
              "      <td>35141.449219</td>\n",
              "      <td>35141.449219</td>\n",
              "      <td>0</td>\n",
              "    </tr>\n",
              "    <tr>\n",
              "      <th>2021-05-31</th>\n",
              "      <td>35097.449219</td>\n",
              "      <td>35584.300781</td>\n",
              "      <td>34930.101562</td>\n",
              "      <td>35526.648438</td>\n",
              "      <td>35526.648438</td>\n",
              "      <td>0</td>\n",
              "    </tr>\n",
              "    <tr>\n",
              "      <th>2021-06-01</th>\n",
              "      <td>35639.750000</td>\n",
              "      <td>35713.898438</td>\n",
              "      <td>35241.199219</td>\n",
              "      <td>35337.199219</td>\n",
              "      <td>35337.199219</td>\n",
              "      <td>0</td>\n",
              "    </tr>\n",
              "    <tr>\n",
              "      <th>2021-06-02</th>\n",
              "      <td>35271.601562</td>\n",
              "      <td>35415.851562</td>\n",
              "      <td>35070.300781</td>\n",
              "      <td>35373.750000</td>\n",
              "      <td>35373.750000</td>\n",
              "      <td>0</td>\n",
              "    </tr>\n",
              "    <tr>\n",
              "      <th>2021-06-03</th>\n",
              "      <td>35536.449219</td>\n",
              "      <td>35723.699219</td>\n",
              "      <td>35413.000000</td>\n",
              "      <td>35649.000000</td>\n",
              "      <td>35649.000000</td>\n",
              "      <td>0</td>\n",
              "    </tr>\n",
              "  </tbody>\n",
              "</table>\n",
              "</div>\n",
              "      <button class=\"colab-df-convert\" onclick=\"convertToInteractive('df-c13ad424-aa7f-4e7d-a0d7-ac2c72236273')\"\n",
              "              title=\"Convert this dataframe to an interactive table.\"\n",
              "              style=\"display:none;\">\n",
              "        \n",
              "  <svg xmlns=\"http://www.w3.org/2000/svg\" height=\"24px\"viewBox=\"0 0 24 24\"\n",
              "       width=\"24px\">\n",
              "    <path d=\"M0 0h24v24H0V0z\" fill=\"none\"/>\n",
              "    <path d=\"M18.56 5.44l.94 2.06.94-2.06 2.06-.94-2.06-.94-.94-2.06-.94 2.06-2.06.94zm-11 1L8.5 8.5l.94-2.06 2.06-.94-2.06-.94L8.5 2.5l-.94 2.06-2.06.94zm10 10l.94 2.06.94-2.06 2.06-.94-2.06-.94-.94-2.06-.94 2.06-2.06.94z\"/><path d=\"M17.41 7.96l-1.37-1.37c-.4-.4-.92-.59-1.43-.59-.52 0-1.04.2-1.43.59L10.3 9.45l-7.72 7.72c-.78.78-.78 2.05 0 2.83L4 21.41c.39.39.9.59 1.41.59.51 0 1.02-.2 1.41-.59l7.78-7.78 2.81-2.81c.8-.78.8-2.07 0-2.86zM5.41 20L4 18.59l7.72-7.72 1.47 1.35L5.41 20z\"/>\n",
              "  </svg>\n",
              "      </button>\n",
              "      \n",
              "  <style>\n",
              "    .colab-df-container {\n",
              "      display:flex;\n",
              "      flex-wrap:wrap;\n",
              "      gap: 12px;\n",
              "    }\n",
              "\n",
              "    .colab-df-convert {\n",
              "      background-color: #E8F0FE;\n",
              "      border: none;\n",
              "      border-radius: 50%;\n",
              "      cursor: pointer;\n",
              "      display: none;\n",
              "      fill: #1967D2;\n",
              "      height: 32px;\n",
              "      padding: 0 0 0 0;\n",
              "      width: 32px;\n",
              "    }\n",
              "\n",
              "    .colab-df-convert:hover {\n",
              "      background-color: #E2EBFA;\n",
              "      box-shadow: 0px 1px 2px rgba(60, 64, 67, 0.3), 0px 1px 3px 1px rgba(60, 64, 67, 0.15);\n",
              "      fill: #174EA6;\n",
              "    }\n",
              "\n",
              "    [theme=dark] .colab-df-convert {\n",
              "      background-color: #3B4455;\n",
              "      fill: #D2E3FC;\n",
              "    }\n",
              "\n",
              "    [theme=dark] .colab-df-convert:hover {\n",
              "      background-color: #434B5C;\n",
              "      box-shadow: 0px 1px 3px 1px rgba(0, 0, 0, 0.15);\n",
              "      filter: drop-shadow(0px 1px 2px rgba(0, 0, 0, 0.3));\n",
              "      fill: #FFFFFF;\n",
              "    }\n",
              "  </style>\n",
              "\n",
              "      <script>\n",
              "        const buttonEl =\n",
              "          document.querySelector('#df-c13ad424-aa7f-4e7d-a0d7-ac2c72236273 button.colab-df-convert');\n",
              "        buttonEl.style.display =\n",
              "          google.colab.kernel.accessAllowed ? 'block' : 'none';\n",
              "\n",
              "        async function convertToInteractive(key) {\n",
              "          const element = document.querySelector('#df-c13ad424-aa7f-4e7d-a0d7-ac2c72236273');\n",
              "          const dataTable =\n",
              "            await google.colab.kernel.invokeFunction('convertToInteractive',\n",
              "                                                     [key], {});\n",
              "          if (!dataTable) return;\n",
              "\n",
              "          const docLinkHtml = 'Like what you see? Visit the ' +\n",
              "            '<a target=\"_blank\" href=https://colab.research.google.com/notebooks/data_table.ipynb>data table notebook</a>'\n",
              "            + ' to learn more about interactive tables.';\n",
              "          element.innerHTML = '';\n",
              "          dataTable['output_type'] = 'display_data';\n",
              "          await google.colab.output.renderOutput(dataTable, element);\n",
              "          const docLink = document.createElement('div');\n",
              "          docLink.innerHTML = docLinkHtml;\n",
              "          element.appendChild(docLink);\n",
              "        }\n",
              "      </script>\n",
              "    </div>\n",
              "  </div>\n",
              "  "
            ]
          },
          "metadata": {},
          "execution_count": 18
        }
      ]
    },
    {
      "cell_type": "code",
      "source": [
        "symbol = '^NSEBANK'\n",
        "end = '2021-05-28'\n",
        "start = '2020-05-28'\n",
        "\n",
        "\n",
        "# Read data \n",
        "#You need to read the from the files provided on NSE Bank for the time given above."
      ],
      "metadata": {
        "id": "ZnhWkbiRVLX-"
      },
      "execution_count": null,
      "outputs": []
    },
    {
      "cell_type": "code",
      "source": [
        "ret = df['Close'].pct_change()[1:]"
      ],
      "metadata": {
        "id": "IRQ8i2JOVP0I"
      },
      "execution_count": null,
      "outputs": []
    },
    {
      "cell_type": "code",
      "source": [
        "ret.head()"
      ],
      "metadata": {
        "id": "rTfeG1_uVP2k",
        "colab": {
          "base_uri": "https://localhost:8080/"
        },
        "outputId": "ba961fc0-fd45-46ef-c00c-dfd729742925"
      },
      "execution_count": null,
      "outputs": [
        {
          "output_type": "execute_result",
          "data": {
            "text/plain": [
              "Date\n",
              "2021-05-31    0.010961\n",
              "2021-06-01   -0.005333\n",
              "2021-06-02    0.001034\n",
              "2021-06-03    0.007781\n",
              "2021-06-04   -0.010024\n",
              "Name: Close, dtype: float64"
            ]
          },
          "metadata": {},
          "execution_count": 22
        }
      ]
    },
    {
      "cell_type": "code",
      "source": [
        "daily_vol = ret.std()\n",
        "daily_vol"
      ],
      "metadata": {
        "id": "shIIhZD6VP4s",
        "colab": {
          "base_uri": "https://localhost:8080/"
        },
        "outputId": "ccbe7acd-d6eb-422b-9db1-b874f348057a"
      },
      "execution_count": null,
      "outputs": [
        {
          "output_type": "execute_result",
          "data": {
            "text/plain": [
              "0.007534349442956498"
            ]
          },
          "metadata": {},
          "execution_count": 23
        }
      ]
    },
    {
      "cell_type": "code",
      "source": [
        "#calculate the Annual Volatility using the daily volatility given above.\n",
        "import math \n",
        "annual_vol= daily_vol* math.sqrt (252)\n",
        "annual_vol"
      ],
      "metadata": {
        "id": "0r_EmQvtVP6W",
        "colab": {
          "base_uri": "https://localhost:8080/"
        },
        "outputId": "30856d62-a241-4803-db00-35e558fcd798"
      },
      "execution_count": null,
      "outputs": [
        {
          "output_type": "execute_result",
          "data": {
            "text/plain": [
              "0.11960408950032554"
            ]
          },
          "metadata": {},
          "execution_count": 27
        }
      ]
    },
    {
      "cell_type": "code",
      "source": [
        "expiry = datetime.strptime('2021-06-24', '%Y-%m-%d') \n",
        "expiry  #Expiry date"
      ],
      "metadata": {
        "id": "XaoeM_raVP8C",
        "colab": {
          "base_uri": "https://localhost:8080/"
        },
        "outputId": "6b86373f-3747-4142-a745-e32f8ed9b63e"
      },
      "execution_count": null,
      "outputs": [
        {
          "output_type": "execute_result",
          "data": {
            "text/plain": [
              "datetime.datetime(2021, 6, 24, 0, 0)"
            ]
          },
          "metadata": {},
          "execution_count": 29
        }
      ]
    },
    {
      "cell_type": "code",
      "source": [
        "\n",
        "time = expiry-df.index    #Time left in days\n",
        "time"
      ],
      "metadata": {
        "id": "DR_41G9QVP-B",
        "colab": {
          "base_uri": "https://localhost:8080/"
        },
        "outputId": "472aef10-d232-4540-e498-dd4f4156aff7"
      },
      "execution_count": null,
      "outputs": [
        {
          "output_type": "execute_result",
          "data": {
            "text/plain": [
              "TimedeltaIndex(['27 days', '24 days', '23 days', '22 days', '21 days',\n",
              "                '20 days', '17 days', '16 days', '15 days', '14 days',\n",
              "                '13 days', '10 days',  '9 days',  '8 days',  '7 days',\n",
              "                 '6 days',  '3 days',  '2 days',  '1 days',  '0 days'],\n",
              "               dtype='timedelta64[ns]', name='Date', freq=None)"
            ]
          },
          "metadata": {},
          "execution_count": 35
        }
      ]
    },
    {
      "cell_type": "code",
      "source": [
        "#Convert Time left in days to int data type\n",
        "j = time/pd.Timedelta(days=1)\n",
        "j\n",
        "\n",
        "p = [int(x) for x in j]\n",
        "p"
      ],
      "metadata": {
        "id": "o9pCP2BgVP_5",
        "colab": {
          "base_uri": "https://localhost:8080/"
        },
        "outputId": "4cf602f6-094d-4490-9f5b-a85e38390f6a"
      },
      "execution_count": null,
      "outputs": [
        {
          "output_type": "execute_result",
          "data": {
            "text/plain": [
              "[27, 24, 23, 22, 21, 20, 17, 16, 15, 14, 13, 10, 9, 8, 7, 6, 3, 2, 1, 0]"
            ]
          },
          "metadata": {},
          "execution_count": 43
        }
      ]
    },
    {
      "cell_type": "code",
      "source": [
        "no_of_lots_fut = 10           #number of future lots we bought at start of the month\n",
        "buy_avg_future = df_fut['Open'][0]       #buying average of that lot\n",
        "lot_size = 25     #lot size of bank nifty\n",
        "delta = 1*no_of_lots_fut*lot_size    #taking delta of future is 1 as if banknifty changes by 1 the future would also change by 1\n",
        "delta_to_maintain = 0.8 #Maintain 0.8 delta per future contract"
      ],
      "metadata": {
        "id": "71cR7-L8VQB9"
      },
      "execution_count": null,
      "outputs": []
    },
    {
      "cell_type": "code",
      "source": [
        "\n",
        "flag = 'c'   #for call or put option\n",
        "S = df['Open'][0]    #price of the underlying\n",
        "K = 36000   #strike price\n",
        "t = time[0]/365   #time left to expiry in years\n",
        "sigma = annual_vol   #volatility\n",
        "r = 0.06  #risk free rate\n",
        "delta_per_lot_call = delta  #Calculate delta per lot\n",
        "delta_per_lot_call"
      ],
      "metadata": {
        "id": "P9ai7_tdVQEJ",
        "colab": {
          "base_uri": "https://localhost:8080/"
        },
        "outputId": "26b4db6b-fad2-4dda-e0c5-d60f9d1667be"
      },
      "execution_count": null,
      "outputs": [
        {
          "output_type": "execute_result",
          "data": {
            "text/plain": [
              "250"
            ]
          },
          "metadata": {},
          "execution_count": 51
        }
      ]
    },
    {
      "cell_type": "code",
      "source": [
        "\n",
        "delta_to_maintain"
      ],
      "metadata": {
        "id": "4IQ6_Q-kVQF4",
        "colab": {
          "base_uri": "https://localhost:8080/"
        },
        "outputId": "237e63ce-bfe2-4d07-866c-acbb04b6878c"
      },
      "execution_count": null,
      "outputs": [
        {
          "output_type": "execute_result",
          "data": {
            "text/plain": [
              "0.8"
            ]
          },
          "metadata": {},
          "execution_count": 52
        }
      ]
    },
    {
      "cell_type": "code",
      "source": [
        "\n",
        "delta"
      ],
      "metadata": {
        "id": "hLVkSGoEVgVQ",
        "colab": {
          "base_uri": "https://localhost:8080/"
        },
        "outputId": "8e2acd67-6cf6-43c6-f968-e65fd635461d"
      },
      "execution_count": null,
      "outputs": [
        {
          "output_type": "execute_result",
          "data": {
            "text/plain": [
              "250"
            ]
          },
          "metadata": {},
          "execution_count": 50
        }
      ]
    },
    {
      "cell_type": "code",
      "source": [
        "number_of_lots_call = ((delta) -(delta_to_maintain*delta))/ lot_size #Calculate Number of call lots we have to sell to ke"
      ],
      "metadata": {
        "id": "xEYFvMzYVgXl"
      },
      "execution_count": null,
      "outputs": []
    },
    {
      "cell_type": "code",
      "source": [
        "\n",
        "number_of_lots_call"
      ],
      "metadata": {
        "id": "XxK-GYRpVgZ9",
        "colab": {
          "base_uri": "https://localhost:8080/"
        },
        "outputId": "125cd24e-beed-4440-d56c-8c11af183596"
      },
      "execution_count": null,
      "outputs": [
        {
          "output_type": "execute_result",
          "data": {
            "text/plain": [
              "2.0"
            ]
          },
          "metadata": {},
          "execution_count": 59
        }
      ]
    },
    {
      "cell_type": "code",
      "source": [
        "\n",
        "sell_avg_call = df_call_36000['Open'][0]  #selling avg of call \n",
        "sell_avg_call"
      ],
      "metadata": {
        "id": "WO6Tx430Vgc_",
        "colab": {
          "base_uri": "https://localhost:8080/"
        },
        "outputId": "bbcc120c-4e00-4b8d-d895-9cae6f57328d"
      },
      "execution_count": null,
      "outputs": [
        {
          "output_type": "execute_result",
          "data": {
            "text/plain": [
              "1394.65"
            ]
          },
          "metadata": {},
          "execution_count": 60
        }
      ]
    },
    {
      "cell_type": "code",
      "source": [
        "# Before moving on to managing delta, answer a few questions:\n",
        "\n",
        "#Q1 : What do you think would happen to the delta of call option as banknifty goes up? (increase/decrease) \n",
        "#Ans : At ATM delta will increase \n",
        "\n",
        "\n",
        "#Q2 : So to manage the delta what would be done to call options already sold? (Buy some call options / Sell more) \n",
        "#Hint : Remember selling call options would give negative delta\n",
        "#Ans : Buy some call options "
      ],
      "metadata": {
        "id": "AQACIq8LVge6"
      },
      "execution_count": null,
      "outputs": []
    },
    {
      "cell_type": "code",
      "source": [
        "# number_of_lots_call = math.ceil((delta-delta_to_maintain)/delta_per_lot_call)  #number of call lots we have to sell to keep delta of 200\n",
        "sell_avg_call = df_call_36000['Open'][0]  #selling avg of call \n",
        "sell_avg_call\n",
        "profit= []\n",
        "\n",
        "for i in range(len(df)-1):\n",
        "    delta_per_lot_call = df_call_36000['Open']-df_call_36000['Close']/df['Close']-df['Open']  #Calculate delta per lot at the next closing day\n",
        "    current_number_of_lots_call = no_of_lots_fut-number_of_lots_call  #number of lots required to sell\n",
        "    no_of_lots_added = number_of_lots_call  #number of lots added/subtracted for selling\n",
        "    sell_avg_call = df_call_36000['Settle Price'][i] #new selling avg of call\n",
        "    number_of_lots_call = number_of_lots_call  #update number of lots of calls sold\n",
        "    profit.append((df_fut['Close'][i]-buy_avg_future)*no_of_lots_fut*lot_size + (sell_avg_call-df_call_36000['Close'][i])*lot_size*number_of_lots_call)  #unrealised profit \n",
        "   \n",
        "   \n",
        "   \n",
        "    #print(df_fut['Close'][i], buy_avg_future, sell_avg_call, df_call_36000['Close'][i])\n",
        "#As you can see that the number of lots of call sold is way too many as the delta of out of money call option appr"
      ],
      "metadata": {
        "id": "4ZhpYPluVgg7",
        "colab": {
          "base_uri": "https://localhost:8080/",
          "height": 260
        },
        "outputId": "06e61990-a8a1-4e88-b34f-3178d6a43195"
      },
      "execution_count": null,
      "outputs": [
        {
          "output_type": "error",
          "ename": "NameError",
          "evalue": "ignored",
          "traceback": [
            "\u001b[0;31m---------------------------------------------------------------------------\u001b[0m",
            "\u001b[0;31mNameError\u001b[0m                                 Traceback (most recent call last)",
            "\u001b[0;32m<ipython-input-12-5f49387a0f3e>\u001b[0m in \u001b[0;36m<module>\u001b[0;34m\u001b[0m\n\u001b[0;32m----> 1\u001b[0;31m \u001b[0mnumber_of_lots_call\u001b[0m \u001b[0;34m=\u001b[0m \u001b[0mmath\u001b[0m\u001b[0;34m.\u001b[0m\u001b[0mceil\u001b[0m\u001b[0;34m(\u001b[0m\u001b[0;34m(\u001b[0m\u001b[0mdelta\u001b[0m\u001b[0;34m-\u001b[0m\u001b[0mdelta_to_maintain\u001b[0m\u001b[0;34m)\u001b[0m\u001b[0;34m/\u001b[0m\u001b[0mdelta_per_lot_call\u001b[0m\u001b[0;34m)\u001b[0m  \u001b[0;31m#number of call lots we have to sell to keep delta of 200\u001b[0m\u001b[0;34m\u001b[0m\u001b[0;34m\u001b[0m\u001b[0m\n\u001b[0m\u001b[1;32m      2\u001b[0m \u001b[0msell_avg_call\u001b[0m \u001b[0;34m=\u001b[0m \u001b[0mdf_call_36000\u001b[0m\u001b[0;34m[\u001b[0m\u001b[0;34m'Open'\u001b[0m\u001b[0;34m]\u001b[0m\u001b[0;34m[\u001b[0m\u001b[0;36m0\u001b[0m\u001b[0;34m]\u001b[0m  \u001b[0;31m#selling avg of call\u001b[0m\u001b[0;34m\u001b[0m\u001b[0;34m\u001b[0m\u001b[0m\n\u001b[1;32m      3\u001b[0m \u001b[0msell_avg_call\u001b[0m\u001b[0;34m\u001b[0m\u001b[0;34m\u001b[0m\u001b[0m\n\u001b[1;32m      4\u001b[0m \u001b[0mprofit\u001b[0m\u001b[0;34m=\u001b[0m \u001b[0;34m[\u001b[0m\u001b[0;34m]\u001b[0m\u001b[0;34m\u001b[0m\u001b[0;34m\u001b[0m\u001b[0m\n\u001b[1;32m      5\u001b[0m \u001b[0;34m\u001b[0m\u001b[0m\n",
            "\u001b[0;31mNameError\u001b[0m: name 'delta' is not defined"
          ]
        }
      ]
    },
    {
      "cell_type": "code",
      "source": [
        "#As you can see that the number of lots of call sold is way too many as the delta of out of money call option approches 0 in the end\n",
        "#Thus this strategy would practically be possible by changing the strike price of the call option as it goes deep out of money\n",
        "#But that would require much higher level programming thats why we have given this simple assignment jst theoretically make\n",
        "#you realise the power of hedging\n",
        "\n",
        "number_of_lots_call"
      ],
      "metadata": {
        "id": "vRSPG4nHVgi6",
        "colab": {
          "base_uri": "https://localhost:8080/"
        },
        "outputId": "3015cde0-ba16-4401-d033-2600696a55c2"
      },
      "execution_count": null,
      "outputs": [
        {
          "output_type": "execute_result",
          "data": {
            "text/plain": [
              "1"
            ]
          },
          "metadata": {},
          "execution_count": 76
        }
      ]
    },
    {
      "cell_type": "code",
      "source": [
        "\n",
        "sell_avg_call"
      ],
      "metadata": {
        "id": "ZxcrlN6UVgj7",
        "colab": {
          "base_uri": "https://localhost:8080/"
        },
        "outputId": "e9c0594e-2156-411d-f497-7e192e47b588"
      },
      "execution_count": null,
      "outputs": [
        {
          "output_type": "execute_result",
          "data": {
            "text/plain": [
              "46.8"
            ]
          },
          "metadata": {},
          "execution_count": 77
        }
      ]
    },
    {
      "cell_type": "code",
      "source": [
        "\n",
        "delta_per_lot_call"
      ],
      "metadata": {
        "id": "qyg9WJO5Vgnc",
        "colab": {
          "base_uri": "https://localhost:8080/"
        },
        "outputId": "1c6901d0-5557-45b1-80f6-411bf51b59a7"
      },
      "execution_count": null,
      "outputs": [
        {
          "output_type": "execute_result",
          "data": {
            "text/plain": [
              "2021-05-28 00:00:00   NaN\n",
              "2021-05-31 00:00:00   NaN\n",
              "2021-06-01 00:00:00   NaN\n",
              "2021-06-02 00:00:00   NaN\n",
              "2021-06-03 00:00:00   NaN\n",
              "2021-06-04 00:00:00   NaN\n",
              "2021-06-07 00:00:00   NaN\n",
              "2021-06-08 00:00:00   NaN\n",
              "2021-06-09 00:00:00   NaN\n",
              "2021-06-10 00:00:00   NaN\n",
              "2021-06-11 00:00:00   NaN\n",
              "2021-06-14 00:00:00   NaN\n",
              "2021-06-15 00:00:00   NaN\n",
              "2021-06-16 00:00:00   NaN\n",
              "2021-06-17 00:00:00   NaN\n",
              "2021-06-18 00:00:00   NaN\n",
              "2021-06-21 00:00:00   NaN\n",
              "2021-06-22 00:00:00   NaN\n",
              "2021-06-23 00:00:00   NaN\n",
              "2021-06-24 00:00:00   NaN\n",
              "0                     NaN\n",
              "1                     NaN\n",
              "2                     NaN\n",
              "3                     NaN\n",
              "4                     NaN\n",
              "5                     NaN\n",
              "6                     NaN\n",
              "7                     NaN\n",
              "8                     NaN\n",
              "9                     NaN\n",
              "10                    NaN\n",
              "11                    NaN\n",
              "12                    NaN\n",
              "13                    NaN\n",
              "14                    NaN\n",
              "15                    NaN\n",
              "16                    NaN\n",
              "17                    NaN\n",
              "18                    NaN\n",
              "19                    NaN\n",
              "dtype: float64"
            ]
          },
          "metadata": {},
          "execution_count": 78
        }
      ]
    },
    {
      "cell_type": "code",
      "source": [
        "profit"
      ],
      "metadata": {
        "id": "uy96srV1VyPd",
        "colab": {
          "base_uri": "https://localhost:8080/"
        },
        "outputId": "27683b71-8108-41dc-d5cc-d92ba0fcf3f7"
      },
      "execution_count": null,
      "outputs": [
        {
          "output_type": "execute_result",
          "data": {
            "text/plain": [
              "[-45275.00000000004,\n",
              " -21587.500000000033,\n",
              " -59900.00000000004,\n",
              " -66650.00000000003,\n",
              " -32300.00000000001,\n",
              " -85850.00000000003,\n",
              " -79400.00000000003,\n",
              " -149750.00000000003,\n",
              " -198037.50000000003,\n",
              " -159837.50000000006,\n",
              " -184662.50000000003,\n",
              " -213375.00000000006,\n",
              " -184187.50000000003,\n",
              " -218837.50000000006,\n",
              " -282512.50000000006,\n",
              " -303800.0,\n",
              " -287712.50000000006,\n",
              " -310750.0,\n",
              " -336962.50000000006]"
            ]
          },
          "metadata": {},
          "execution_count": 80
        }
      ]
    },
    {
      "cell_type": "code",
      "source": [
        "plt.plot(profit[:14], label = 'strategy_profit')\n",
        "plt.plot((df_fut['Close']-df_fut['Open'][0])[:14]*250, label = 'futures_profit')\n",
        "plt.legend()\n"
      ],
      "metadata": {
        "id": "8wzV25z0VyTx",
        "colab": {
          "base_uri": "https://localhost:8080/",
          "height": 283
        },
        "outputId": "0ad17881-28e7-4abe-b37d-2bd1096517e8"
      },
      "execution_count": null,
      "outputs": [
        {
          "output_type": "execute_result",
          "data": {
            "text/plain": [
              "<matplotlib.legend.Legend at 0x7f4d81dc6610>"
            ]
          },
          "metadata": {},
          "execution_count": 81
        },
        {
          "output_type": "display_data",
          "data": {
            "text/plain": [
              "<Figure size 432x288 with 1 Axes>"
            ],
            "image/png": "[encoded data removed]"
          },
          "metadata": {
            "needs_background": "light"
          }
        }
      ]
    },
    {
      "cell_type": "code",
      "source": [],
      "metadata": {
        "id": "oLOPBWyFVyW6"
      },
      "execution_count": null,
      "outputs": []
    },
    {
      "cell_type": "code",
      "source": [],
      "metadata": {
        "id": "Myao2o6lVyY4"
      },
      "execution_count": null,
      "outputs": []
    },
    {
      "cell_type": "code",
      "source": [],
      "metadata": {
        "id": "3-kARQG7VycG"
      },
      "execution_count": null,
      "outputs": []
    }
  ]
}